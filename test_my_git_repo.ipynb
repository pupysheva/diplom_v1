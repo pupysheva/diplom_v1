{
 "cells": [
  {
   "cell_type": "code",
   "execution_count": null,
   "metadata": {},
   "outputs": [],
   "source": [
    "!pip install git+https://github.com/pupysheva/diplom_v1"
   ]
  },
  {
   "cell_type": "code",
   "execution_count": null,
   "metadata": {},
   "outputs": [],
   "source": [
    "\n",
    "from DIPLOMv1.dataset import fetch_ml_ratings\n",
    "from DIPLOMv1 import SVD\n",
    "\n",
    "from sklearn.metrics import mean_absolute_error\n",
    "\n",
    "#20m dataset\n",
    "import pandas as pd\n",
    "import numpy as np\n",
    "import zipfile\n",
    "import urllib.request\n",
    "\n",
    "\n",
    "print(\"Downloading 20-m movielens data...\")\n",
    "\n",
    "urllib.request.urlretrieve(\"http://files.grouplens.org/datasets/movielens/ml-20m.zip\", \"movielens20m.zip\")\n",
    "\n",
    "zip_ref = zipfile.ZipFile('movielens20m.zip', \"r\")\n",
    "zip_ref.extractall()\n",
    "print(\"Downloaded the 20-m movielens!\")\n",
    "\n",
    "movies_df = pd.read_csv('ml-20m/movies.csv',names= ['i_id', 'title', 'genres'], sep=',', encoding='latin-1')\n",
    "movies_df.drop([0], inplace=True)\n",
    "movies_df['i_id'] = movies_df['i_id'].apply(pd.to_numeric)\n",
    "\n",
    "# Create one merged DataFrame containing all the movielens data.\n",
    "\n",
    "df = fetch_ml_ratings()\n",
    "model = df.copy()"
   ]
  },
  {
   "cell_type": "code",
   "execution_count": null,
   "metadata": {},
   "outputs": [],
   "source": [
    "from sklearn.metrics import mean_squared_error, mean_absolute_error\n",
    "\n",
    "\n",
    "\n",
    "train = model.sample(frac=0.8)\n",
    "val = model.drop(train.index.tolist()).sample(frac=0.5, random_state=8)\n",
    "test = model.drop(train.index.tolist()).drop(val.index.tolist())\n",
    "\n",
    "iterations = 100\n",
    "\n",
    "def sample_params():\n",
    "    lr = np.random.uniform(low = 0.001, high = 0.1,  size = 1)[0]\n",
    "    reg = np.random.uniform(low = 0.001, high = 0.1,  size = 1)[0]\n",
    "#     factors = np.random.randint(low = 100, high = 500,  size = 1)[0]\n",
    "    factors = 64\n",
    "    return lr, reg, factors"
   ]
  },
  {
   "cell_type": "code",
   "execution_count": null,
   "metadata": {},
   "outputs": [],
   "source": [
    "# lr, reg, factors = (0.007, 0.03, 90)\n",
    "lr, reg, factors = (0.02, 0.016, 64)\n",
    "svd = SVD(learning_rate=lr, regularization=reg, n_epochs=200, n_factors=factors,\n",
    "          min_rating=0.5, max_rating=5)\n",
    "\n",
    "svd.fit(X=train, X_val=val, early_stopping=True, shuffle=False)\n",
    "\n",
    "pred = svd.predict(test)\n",
    "mae = mean_absolute_error(test[\"rating\"], pred)\n",
    "rmse = np.sqrt(mean_squared_error(test[\"rating\"], pred))\n",
    "print(\"Test MAE:  {:.2f}\".format(mae))\n",
    "print(\"Test RMSE: {:.2f}\".format(rmse))\n",
    "print('{} factors, {} lr, {} reg'.format(factors, lr, reg))"
   ]
  },
  {
   "cell_type": "code",
   "execution_count": null,
   "metadata": {},
   "outputs": [],
   "source": [
    "#Adding our own ratings\n",
    "\n",
    "n_m = len(model.i_id.unique())\n",
    "\n",
    "#  Initialize my ratings\n",
    "my_ratings = np.zeros(n_m)\n",
    "\n",
    "\n",
    "my_ratings[4993] = 5\n",
    "my_ratings[1080] = 5\n",
    "my_ratings[260] = 5\n",
    "my_ratings[4896] = 5\n",
    "my_ratings[1196] = 5\n",
    "my_ratings[1210] = 5\n",
    "my_ratings[2628] = 5\n",
    "my_ratings[5378] = 5\n",
    "\n",
    "print('User ratings:')\n",
    "print('-----------------')\n",
    "\n",
    "for i, val in enumerate(my_ratings):\n",
    "    if val > 0:\n",
    "        print('Rated %d stars: %s' % (val, movies_df.loc[movies_df.i_id==i].title.values))\n",
    "print(\"Adding your recommendations!\")\n",
    "items_id = [item[0] for item in np.argwhere(my_ratings>0)]\n",
    "ratings_list = my_ratings[np.where(my_ratings>0)]\n",
    "user_id = np.asarray([0] * len(ratings_list))\n",
    "\n",
    "user_ratings = pd.DataFrame(list(zip(user_id, items_id, ratings_list)), columns=['u_id', 'i_id', 'rating'])"
   ]
  },
  {
   "cell_type": "code",
   "execution_count": null,
   "metadata": {},
   "outputs": [],
   "source": [
    "try:\n",
    "    model = model.drop(columns=['timestamp'])\n",
    "except:\n",
    "    pass\n",
    "data_with_user = model.append(user_ratings, ignore_index=True)\n",
    "\n",
    "train_user = data_with_user.sample(frac=0.8)\n",
    "val_user = data_with_user.drop(train_user.index.tolist()).sample(frac=0.5, random_state=8)\n",
    "test_user = data_with_user.drop(train_user.index.tolist()).drop(val_user.index.tolist())"
   ]
  },
  {
   "cell_type": "code",
   "execution_count": null,
   "metadata": {},
   "outputs": [],
   "source": [
    "# lr, reg, factors = (0.007, 0.03, 90)\n",
    "lr, reg, factors = (0.02, 0.016, 64)\n",
    "epochs = 10#epochs = 50\n",
    "from DIPLOMv1 import SVD\n",
    "\n",
    "svd = SVD(learning_rate=lr, regularization=reg, n_epochs=epochs, n_factors=factors,\n",
    "          min_rating=0.5, max_rating=5)\n",
    "\n",
    "svd.fit(X=train_user, X_val=val_user, early_stopping=False, shuffle=False)#early_stopping=True\n",
    "\n",
    "pred = svd.predict(test_user)\n",
    "mae = mean_absolute_error(test_user[\"rating\"], pred)\n",
    "rmse = np.sqrt(mean_squared_error(test_user[\"rating\"], pred))\n",
    "print(\"Test MAE:  {:.2f}\".format(mae))\n",
    "print(\"Test RMSE: {:.2f}\".format(rmse))\n",
    "print('{} factors, {} lr, {} reg'.format(factors, lr, reg))"
   ]
  },
  {
   "cell_type": "code",
   "execution_count": null,
   "metadata": {},
   "outputs": [],
   "source": [
    "from itertools import product\n",
    "def funk_svd_predict(userID, data_with_user, movies_df):\n",
    "    userID = [userID]\n",
    "\n",
    "    # all_users = data_with_user.u_id.unique()\n",
    "    all_movies = data_with_user.i_id.unique()\n",
    "    recommendations = pd.DataFrame(list(product(userID, all_movies)), columns=['u_id', 'i_id'])\n",
    "\n",
    "    #Getting predictions for the selected userID\n",
    "    pred_train = svd.predict(recommendations)\n",
    "    recommendations['prediction'] = pred_train\n",
    "    recommendations.head(10)\n",
    "\n",
    "    sorted_user_predictions = recommendations.sort_values(by='prediction', ascending=False)\n",
    "\n",
    "    user_ratings = data_with_user[data_with_user.u_id == userID[0]]\n",
    "    user_ratings.columns = ['u_id',\t'i_id', 'rating']\n",
    "    # Recommend the highest predicted rating movies that the user hasn't seen yet.\n",
    "    recommendations = movies_df[~movies_df['i_id'].isin(user_ratings['i_id'])].\\\n",
    "        merge(pd.DataFrame(sorted_user_predictions).reset_index(drop=True), how = 'inner', left_on = 'i_id', right_on = 'i_id').\\\n",
    "        sort_values(by='prediction', ascending = False)#.drop(['i_id'],axis=1)\n",
    "\n",
    "    rated_df = movies_df[movies_df['i_id'].isin(user_ratings['i_id'])].\\\n",
    "        merge(pd.DataFrame(data_with_user).reset_index(drop=True), how = 'inner', left_on = 'i_id', right_on = 'i_id')\n",
    "    rated_df = rated_df.loc[rated_df.u_id==userID[0]].sort_values(by='rating', ascending = False)\n",
    "    \n",
    "    return recommendations, rated_df"
   ]
  },
  {
   "cell_type": "code",
   "execution_count": null,
   "metadata": {},
   "outputs": [],
   "source": [
    "m = list(movies_df[movies_df[\"genres\"]==\"Horror\"].i_id)\n",
    "o = df[df[\"i_id\"] == 62203].sort_values(by='rating', ascending = False)\n",
    "o.iloc[0:30,:]"
   ]
  },
  {
   "cell_type": "code",
   "execution_count": null,
   "metadata": {},
   "outputs": [],
   "source": [
    "temp = df.groupby(['rating']).count()\n",
    "temp\n",
    "# print(temp[temp[\"i_id\"] == temp[\"i_id\"].min()])"
   ]
  },
  {
   "cell_type": "code",
   "execution_count": null,
   "metadata": {},
   "outputs": [],
   "source": [
    "temp = df.groupby(['u_id']).count() \n",
    "temp = temp[temp[\"i_id\"] == temp[\"i_id\"].min()]\n",
    "temp.iloc[90:120,:]"
   ]
  },
  {
   "cell_type": "code",
   "execution_count": null,
   "metadata": {},
   "outputs": [],
   "source": [
    "recommendations, rated_df = funk_svd_predict(\t0\t, data_with_user, movies_df)"
   ]
  },
  {
   "cell_type": "code",
   "execution_count": null,
   "metadata": {},
   "outputs": [],
   "source": [
    "rated_df.iloc[0:20,:]"
   ]
  },
  {
   "cell_type": "code",
   "execution_count": null,
   "metadata": {},
   "outputs": [],
   "source": [
    "recommendations.head(30)"
   ]
  },
  {
   "cell_type": "code",
   "execution_count": null,
   "metadata": {},
   "outputs": [],
   "source": [
    "recommendations, rated_df = funk_svd_predict(\t0\t, data_with_user, movies_df)\n",
    "recommendations.head(30)"
   ]
  }
 ],
 "metadata": {
  "kernelspec": {
   "display_name": "Python 3",
   "language": "python",
   "name": "python3"
  },
  "language_info": {
   "codemirror_mode": {
    "name": "ipython",
    "version": 3
   },
   "file_extension": ".py",
   "mimetype": "text/x-python",
   "name": "python",
   "nbconvert_exporter": "python",
   "pygments_lexer": "ipython3",
   "version": "3.7.3"
  }
 },
 "nbformat": 4,
 "nbformat_minor": 2
}
